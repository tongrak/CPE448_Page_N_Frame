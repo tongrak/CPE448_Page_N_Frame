{
 "cells": [
  {
   "attachments": {},
   "cell_type": "markdown",
   "metadata": {},
   "source": [
    "# Page & Frame Replacement Algorithm Simulation"
   ]
  },
  {
   "attachments": {},
   "cell_type": "markdown",
   "metadata": {},
   "source": [
    "## Init"
   ]
  },
  {
   "cell_type": "code",
   "execution_count": 53,
   "metadata": {},
   "outputs": [],
   "source": [
    "#Import\n",
    "# import random as rd;\n",
    "import numpy.random as rd;\n",
    "from numpy import zeros;\n",
    "from functools import reduce;\n",
    "\n",
    "# Variable\n",
    "simpleRS = [7,0,1,2,0,3,0,4,2,3,0,3,0,3,2,1,2,0,1,7,0,1]\n",
    "\n",
    "lowestRS = 0;\n",
    "highestRS = 7;\n",
    "\n",
    "# Classes\n",
    "class PageTable:\n",
    "    def __init__(self, capa: int) -> None:\n",
    "        self.theTable = list(map(lambda _: -1, zeros(capa, dtype=int)));\n",
    "    def __str__(self) -> str:\n",
    "        return 'PageTable[' + reduce(lambda a,b: str(a) + \" ,\" + str(b), self.theTable) + ']';\n",
    "\n",
    "    def setAt(self, index: int, value: int):\n",
    "        if(index >= len(self.theTable)): \n",
    "            raise IndexError(str(index) + \" is out of range\");\n",
    "        self.theTable[index] = value;\n",
    "\n",
    "    def setEmpty(self, value: int):\n",
    "        if(self.contain(-1)):\n",
    "            self.setAt(self.index(-1), value)\n",
    "            return True;\n",
    "        return False;\n",
    "\n",
    "    def getAt(self, index: int):\n",
    "        if(index >= len(self.theTable)): \n",
    "            raise IndexError(str(index) + \" is out of range\");\n",
    "        return self.theTable[index];\n",
    "\n",
    "    def size(self):\n",
    "        return len(self.theTable);\n",
    "\n",
    "    def copy(self):\n",
    "        return self.theTable.copy();\n",
    "\n",
    "    def contain(self, value: int):\n",
    "        for t in self.theTable:\n",
    "            if (t == value): return True;\n",
    "        return False;\n",
    "\n",
    "\n",
    "# Functions\n",
    "def getUnifromRS(count :int)->list:\n",
    "    return rd.randint(lowestRS, highestRS, count)\n",
    "\n",
    "\n",
    "def getBinomialRS(count: int)->list:\n",
    "    return rd.binomial(highestRS,0.5,count)\n"
   ]
  },
  {
   "attachments": {},
   "cell_type": "markdown",
   "metadata": {},
   "source": [
    "## Algorithms Implementation"
   ]
  },
  {
   "attachments": {},
   "cell_type": "markdown",
   "metadata": {},
   "source": [
    "### FIFO"
   ]
  },
  {
   "cell_type": "code",
   "execution_count": 58,
   "metadata": {},
   "outputs": [
    {
     "name": "stdout",
     "output_type": "stream",
     "text": [
      "15\n"
     ]
    }
   ],
   "source": [
    "def FIFOSim(frame: int, refStr: list):\n",
    "    pageFaultCount = 0;\n",
    "    pT = PageTable(frame);\n",
    "    currIndex = 0;\n",
    "    for rs in refStr:\n",
    "        if(pT.contain(rs)): pass;\n",
    "        else:\n",
    "            pT.setAt(currIndex, rs);\n",
    "            currIndex += 1;\n",
    "            if(currIndex == frame): currIndex=0;\n",
    "            pageFaultCount += 1;\n",
    "    return pageFaultCount\n",
    "    \n",
    "simpleRS = [7,0,1,2,0,3,0,4,2,3,0,3,0,3,2,1,2,0,1,7,0,1]\n",
    "print(FIFOSim(3, simpleRS));"
   ]
  },
  {
   "attachments": {},
   "cell_type": "markdown",
   "metadata": {},
   "source": [
    "### Optimal"
   ]
  },
  {
   "cell_type": "code",
   "execution_count": 71,
   "metadata": {},
   "outputs": [
    {
     "name": "stdout",
     "output_type": "stream",
     "text": [
      "9\n"
     ]
    }
   ],
   "source": [
    "def indexOf(ls:list, val:int):\n",
    "    try:\n",
    "        return ls.index(val);\n",
    "    except:\n",
    "        return len(ls);\n",
    "\n",
    "def maxIndexOf(ls:list):\n",
    "    max_value = max(ls)\n",
    "    return ls.index(max_value)\n",
    "\n",
    "def optimalSim(frame: int, refStr: list):\n",
    "    pageFaultCount = 0;\n",
    "    pT = PageTable(frame);\n",
    "    while(refStr != []):\n",
    "        currVal = refStr.pop(0);\n",
    "        if(pT.setEmpty(currVal)):\n",
    "            pageFaultCount += 1;\n",
    "        elif(not pT.contain(currVal)):\n",
    "            temp = pT.copy();\n",
    "            closestIndexList = list(map(lambda x: indexOf(refStr,x), temp));\n",
    "            swapIndex = maxIndexOf(closestIndexList);\n",
    "            pT.setAt(swapIndex, currVal);\n",
    "            pageFaultCount += 1;\n",
    "    return pageFaultCount;\n",
    "\n",
    "simpleRS = [7,0,1,2,0,3,0,4,2,3,0,3,0,3,2,1,2,0,1,7,0,1]\n",
    "print(optimalSim(3, simpleRS))"
   ]
  },
  {
   "attachments": {},
   "cell_type": "markdown",
   "metadata": {},
   "source": [
    "### LRU"
   ]
  },
  {
   "cell_type": "code",
   "execution_count": 68,
   "metadata": {},
   "outputs": [
    {
     "name": "stdout",
     "output_type": "stream",
     "text": [
      "22\n"
     ]
    }
   ],
   "source": [
    "simpleRS = [7,0,1,2,0,3,0,4,2,3,0,3,0,3,2,1,2,0,1,7,0,1]\n",
    "print(len(simpleRS))"
   ]
  },
  {
   "attachments": {},
   "cell_type": "markdown",
   "metadata": {},
   "source": [
    "## 1st Test"
   ]
  },
  {
   "cell_type": "code",
   "execution_count": null,
   "metadata": {},
   "outputs": [],
   "source": [
    "theRefString = getRefString(30);"
   ]
  },
  {
   "attachments": {},
   "cell_type": "markdown",
   "metadata": {},
   "source": [
    "## 2nd Test"
   ]
  },
  {
   "cell_type": "code",
   "execution_count": null,
   "metadata": {},
   "outputs": [],
   "source": [
    "theRefString = getRefString(100);\n"
   ]
  },
  {
   "attachments": {},
   "cell_type": "markdown",
   "metadata": {},
   "source": [
    "## 3rd Test"
   ]
  },
  {
   "cell_type": "code",
   "execution_count": null,
   "metadata": {},
   "outputs": [],
   "source": [
    "theRefString = getRefString(300);"
   ]
  }
 ],
 "metadata": {
  "kernelspec": {
   "display_name": "Python 3",
   "language": "python",
   "name": "python3"
  },
  "language_info": {
   "codemirror_mode": {
    "name": "ipython",
    "version": 3
   },
   "file_extension": ".py",
   "mimetype": "text/x-python",
   "name": "python",
   "nbconvert_exporter": "python",
   "pygments_lexer": "ipython3",
   "version": "3.10.2"
  },
  "orig_nbformat": 4,
  "vscode": {
   "interpreter": {
    "hash": "f5d4d8f8c396911fa7ea230123ef05aeb4e9f2b4fb5da5dcce73e71fee68065d"
   }
  }
 },
 "nbformat": 4,
 "nbformat_minor": 2
}
